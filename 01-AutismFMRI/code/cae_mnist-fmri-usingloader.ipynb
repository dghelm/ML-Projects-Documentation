{
 "cells": [
  {
   "cell_type": "markdown",
   "metadata": {},
   "source": [
    "# Convolutional auto-encoder"
   ]
  },
  {
   "cell_type": "code",
   "execution_count": 7,
   "metadata": {
    "collapsed": false,
    "scrolled": false
   },
   "outputs": [],
   "source": [
    "import matplotlib.pyplot as plt\n",
    "import numpy as np\n",
    "import math\n",
    "import tensorflow as tf\n",
    "#import tensorflow.examples.tutorials.mnist.input_data as input_data\n",
    "import load_fmri as input_data\n",
    "from __future__ import print_function\n",
    "%matplotlib inline \n",
    "\n",
    "print (\"Packages loaded\")#"
   ]
  },
  {
   "cell_type": "code",
   "execution_count": 2,
   "metadata": {
    "collapsed": false
   },
   "outputs": [
    {
     "name": "stdout",
     "output_type": "stream",
     "text": [
      ".........."
     ]
    }
   ],
   "source": [
    "fmri = input_data.read_data_sets(\"../../data/AllSubjects4cat.hdf5\", fraction=4)\n",
    "trainimgs   = fmri.train.images\n",
    "trainlabels = fmri.train.labels\n",
    "testimgs    = fmri.test.images\n",
    "testlabels  = fmri.test.labels\n",
    "ntrain      = trainimgs.shape[0]\n",
    "ntest       = testimgs.shape[0]\n",
    "dim         = trainimgs.shape[1]\n",
    "nout        = trainlabels.shape[1]\n",
    "\n"
   ]
  },
  {
   "cell_type": "markdown",
   "metadata": {},
   "source": [
    "# DEFINE NETWORKS"
   ]
  },
  {
   "cell_type": "code",
   "execution_count": 3,
   "metadata": {
    "collapsed": false
   },
   "outputs": [],
   "source": [
    "n1 = 16\n",
    "n2 = 32\n",
    "n3 = 64\n",
    "ksize = 5\n",
    "weights = {\n",
    "    'ce1': tf.Variable(tf.random_normal([ksize, ksize, ksize, 1, n1],  stddev=0.1)),\n",
    "    'ce2': tf.Variable(tf.random_normal([ksize, ksize, ksize, n1, n2], stddev=0.1)),\n",
    "    'ce3': tf.Variable(tf.random_normal([ksize, ksize, ksize, n2, n3], stddev=0.1)),\n",
    "    'cd3': tf.Variable(tf.random_normal([ksize, ksize, ksize, n2, n3], stddev=0.1)),\n",
    "    'cd2': tf.Variable(tf.random_normal([ksize, ksize, ksize, n1, n2], stddev=0.1)),\n",
    "    'cd1': tf.Variable(tf.random_normal([ksize, ksize, ksize, 1, n1],  stddev=0.1))\n",
    "}\n",
    "biases = {\n",
    "    'be1': tf.Variable(tf.random_normal([n1], stddev=0.1)),\n",
    "    'be2': tf.Variable(tf.random_normal([n2], stddev=0.1)),\n",
    "    'be3': tf.Variable(tf.random_normal([n3], stddev=0.1)),\n",
    "    'bd3': tf.Variable(tf.random_normal([n2], stddev=0.1)),\n",
    "    'bd2': tf.Variable(tf.random_normal([n1], stddev=0.1)),\n",
    "    'bd1': tf.Variable(tf.random_normal([1],  stddev=0.1))\n",
    "}"
   ]
  },
  {
   "cell_type": "code",
   "execution_count": 4,
   "metadata": {
    "collapsed": false
   },
   "outputs": [
    {
     "name": "stdout",
     "output_type": "stream",
     "text": [
      "Network ready\n"
     ]
    }
   ],
   "source": [
    "def cae(_X, _W, _b, _keepprob):\n",
    "    _input_r = tf.reshape(_X, shape=[-1, 52, 60, 48, 1])\n",
    "    # Encoder\n",
    "    _ce1 = tf.nn.sigmoid(tf.add(tf.nn.conv3d(_input_r, _W['ce1']\n",
    "        , strides=[1, 2, 2, 2, 1], padding='SAME'), _b['be1']))\n",
    "    _ce1 = tf.nn.dropout(_ce1, _keepprob)\n",
    "    _ce2 = tf.nn.sigmoid(tf.add(tf.nn.conv3d(_ce1, _W['ce2']\n",
    "        , strides=[1, 2, 2, 2, 1], padding='SAME'), _b['be2'])) \n",
    "    _ce2 = tf.nn.dropout(_ce2, _keepprob)\n",
    "    _ce3 = tf.nn.sigmoid(tf.add(tf.nn.conv3d(_ce2, _W['ce3']\n",
    "        , strides=[1, 2, 2, 2, 1], padding='SAME'), _b['be3'])) \n",
    "    _ce3 = tf.nn.dropout(_ce3, _keepprob)\n",
    "    # Decoder\n",
    "    _cd3 = tf.nn.sigmoid(tf.add(tf.nn.conv3d_transpose(_ce3, _W['cd3']\n",
    "        , tf.pack([tf.shape(_X)[0], 13, 15, 12, n2]), strides=[1, 2, 2, 2, 1]\n",
    "        , padding='SAME'), _b['bd3'])) \n",
    "    _cd3 = tf.nn.dropout(_cd3, _keepprob)\n",
    "    _cd2 = tf.nn.sigmoid(tf.add(tf.nn.conv3d_transpose(_cd3, _W['cd2']\n",
    "        , tf.pack([tf.shape(_X)[0], 26, 30, 24, n1]), strides=[1, 2, 2, 2, 1]\n",
    "        , padding='SAME') , _b['bd2'])) \n",
    "    _cd2 = tf.nn.dropout(_cd2, _keepprob)\n",
    "    _cd1 = tf.nn.sigmoid(tf.add(tf.nn.conv3d_transpose(_cd2, _W['cd1']\n",
    "        , tf.pack([tf.shape(_X)[0], 52, 60, 48, 1]), strides=[1, 2, 2, 2, 1]\n",
    "        , padding='SAME'), _b['bd1'])) \n",
    "    _cd1 = tf.nn.dropout(_cd1, _keepprob)\n",
    "    _out = _cd1\n",
    "    return {'input_r': _input_r, 'ce1': _ce1, 'ce2': _ce2, 'ce3': _ce3\n",
    "        , 'cd3': _cd3, 'cd2': _cd2, 'cd1': _cd1\n",
    "        , 'layers': (_input_r, _ce1, _ce2, _ce3, _cd3, _cd2, _cd1)\n",
    "        , 'out': _out}\n",
    "print (\"Network ready\")"
   ]
  },
  {
   "cell_type": "markdown",
   "metadata": {},
   "source": [
    "# DEFINE FUNCTIONS"
   ]
  },
  {
   "cell_type": "code",
   "execution_count": 5,
   "metadata": {
    "collapsed": false
   },
   "outputs": [
    {
     "name": "stdout",
     "output_type": "stream",
     "text": [
      "Functions ready\n"
     ]
    }
   ],
   "source": [
    "x = tf.placeholder(tf.float32, [None, dim])\n",
    "y = tf.placeholder(tf.float32, [None, dim])\n",
    "keepprob = tf.placeholder(tf.float32)\n",
    "pred = cae(x, weights, biases, keepprob)['out']\n",
    "cost = tf.reduce_sum(tf.square(cae(x, weights, biases, keepprob)['out'] \n",
    "            - tf.reshape(y, shape=[-1, 52, 60, 48, 1])))\n",
    "learning_rate = 0.001\n",
    "optm = tf.train.AdamOptimizer(learning_rate).minimize(cost)\n",
    "init = tf.initialize_all_variables()\n",
    "print (\"Functions ready\")"
   ]
  },
  {
   "cell_type": "markdown",
   "metadata": {},
   "source": [
    "# OPTIMIZE"
   ]
  },
  {
   "cell_type": "code",
   "execution_count": null,
   "metadata": {
    "collapsed": false,
    "scrolled": false
   },
   "outputs": [
    {
     "name": "stdout",
     "output_type": "stream",
     "text": [
      "Strart training..\n",
      ".............................[00/05] cost: 4977.4526\n",
      ".................[01/05] cost: 4570.1904\n",
      ".........................................[03/05] cost: 3388.3599\n",
      "............................."
     ]
    }
   ],
   "source": [
    "sess = tf.Session()\n",
    "sess.run(init)\n",
    "# mean_img = np.mean(mnist.train.images, axis=0)\n",
    "#mean_img = np.zeros((149760))\n",
    "# Fit all training data\n",
    "batch_size = 128/64\n",
    "n_epochs   = 5\n",
    "print(\"Strart training..\")\n",
    "for epoch_i in range(n_epochs):\n",
    "    for batch_i in range(fmri.train.num_examples // batch_size):\n",
    "        batch_xs, _ = fmri.train.next_batch(batch_size)\n",
    "        #trainbatch = np.array([img - mean_img for img in batch_xs])\n",
    "        trainbatch = np.array([img for img in batch_xs])\n",
    "        print(\".\", end=\"\")\n",
    "        #trainbatch_noisy = trainbatch + 0.3*np.random.randn(\n",
    "            #trainbatch.shape[0], 784)\n",
    "        sess.run(optm, feed_dict={x: trainbatch\n",
    "                                  , y: trainbatch, keepprob: 0.7})\n",
    "    print (\"[%02d/%02d] cost: %.4f\" % (epoch_i, n_epochs\n",
    "        , sess.run(cost, feed_dict={x: trainbatch\n",
    "                                    , y: trainbatch, keepprob: 1.})))\n",
    "print(\"Training done. \")"
   ]
  },
  {
   "cell_type": "markdown",
   "metadata": {},
   "source": [
    "# PRINT SHAPE OF THE NETWORK"
   ]
  },
  {
   "cell_type": "code",
   "execution_count": 5,
   "metadata": {
    "collapsed": false
   },
   "outputs": [
    {
     "name": "stdout",
     "output_type": "stream",
     "text": [
      "Shape of layer 1 is (1, 28, 28, 1)\n",
      "Shape of layer 2 is (1, 4, 4, 64)\n",
      "Shape of layer 3 is (1, 7, 7, 32)\n",
      "Shape of layer 4 is (1, 4, 4, 64)\n",
      "Shape of layer 5 is (1, 7, 7, 32)\n",
      "Shape of layer 6 is (1, 14, 14, 16)\n",
      "Shape of layer 7 is (1, 28, 28, 1)\n"
     ]
    }
   ],
   "source": [
    "test_xs, _ = fmri.test.next_batch(1)\n",
    "test_xs_norm = np.array([img - mean_img for img in test_xs])\n",
    "recon = sess.run(pred, feed_dict={x: test_xs_norm, keepprob: 1.})\n",
    "layers = sess.run(cae(x, weights, biases, keepprob)['layers']\n",
    "                  , feed_dict={x: test_xs_norm, keepprob: 1.})\n",
    "for i in range(len(layers)):\n",
    "    currl = layers[i]\n",
    "    print ((\"Shape of layer %d is %s\") % (i+1, currl.shape,))"
   ]
  },
  {
   "cell_type": "markdown",
   "metadata": {},
   "source": [
    "# CLOSE SESSION"
   ]
  },
  {
   "cell_type": "code",
   "execution_count": 7,
   "metadata": {
    "collapsed": false
   },
   "outputs": [
    {
     "name": "stdout",
     "output_type": "stream",
     "text": [
      "Session closed.\n"
     ]
    }
   ],
   "source": [
    "sess.close()\n",
    "print (\"Session closed.\")"
   ]
  }
 ],
 "metadata": {
  "kernelspec": {
   "display_name": "Python 2",
   "language": "python",
   "name": "python2"
  },
  "language_info": {
   "codemirror_mode": {
    "name": "ipython",
    "version": 2.0
   },
   "file_extension": ".py",
   "mimetype": "text/x-python",
   "name": "python",
   "nbconvert_exporter": "python",
   "pygments_lexer": "ipython2",
   "version": "2.7.12"
  }
 },
 "nbformat": 4,
 "nbformat_minor": 0
}